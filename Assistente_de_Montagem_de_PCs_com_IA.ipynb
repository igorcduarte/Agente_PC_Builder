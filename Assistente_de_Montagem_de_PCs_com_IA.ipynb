{
  "nbformat": 4,
  "nbformat_minor": 0,
  "metadata": {
    "colab": {
      "provenance": [],
      "include_colab_link": true
    },
    "kernelspec": {
      "name": "python3",
      "display_name": "Python 3"
    },
    "language_info": {
      "name": "python"
    }
  },
  "cells": [
    {
      "cell_type": "markdown",
      "metadata": {
        "id": "view-in-github",
        "colab_type": "text"
      },
      "source": [
        "<a href=\"https://colab.research.google.com/github/igorcduarte/Agente_PC_Builder/blob/main/Assistente_de_Montagem_de_PCs_com_IA.ipynb\" target=\"_parent\"><img src=\"https://colab.research.google.com/assets/colab-badge.svg\" alt=\"Open In Colab\"/></a>"
      ]
    },
    {
      "cell_type": "code",
      "source": [
        "%pip -q install google-genai"
      ],
      "metadata": {
        "id": "UCCbECexLk_h"
      },
      "execution_count": null,
      "outputs": []
    },
    {
      "cell_type": "code",
      "source": [
        "# Configura a API Key do Google Gemini\n",
        "\n",
        "import os\n",
        "from google.colab import userdata\n",
        "\n",
        "os.environ[\"GOOGLE_API_KEY\"] = userdata.get('GOOGLE_API_KEY')"
      ],
      "metadata": {
        "id": "NfCqHo1tLk8P"
      },
      "execution_count": null,
      "outputs": []
    },
    {
      "cell_type": "code",
      "source": [
        "# Configura o cliente da SDK do Gemini\n",
        "\n",
        "from google import genai\n",
        "\n",
        "client = genai.Client()\n",
        "\n",
        "MODEL_ID = \"gemini-2.0-flash\""
      ],
      "metadata": {
        "id": "bV4w0H5TLk5g"
      },
      "execution_count": null,
      "outputs": []
    },
    {
      "cell_type": "code",
      "source": [
        "# Pergunta ao Gemini uma informação mais recente que seu conhecimento\n",
        "\n",
        "from IPython.display import HTML, Markdown\n",
        "\n",
        "# Perguntar pro modelo quando uma informação recente\n",
        "resposta = client.models.generate_content(\n",
        "    model=MODEL_ID,\n",
        "    contents='Quando é o próximo Google I/O?',\n",
        ")\n",
        "\n",
        "# Exibe a resposta na tela\n",
        "display(Markdown(f\"Resposta:\\n {resposta.text}\"))"
      ],
      "metadata": {
        "id": "HwVP7Xi34Zuw",
        "colab": {
          "base_uri": "https://localhost:8080/",
          "height": 46
        },
        "outputId": "28ac1545-0878-4208-f067-93bf96cf17f9"
      },
      "execution_count": null,
      "outputs": [
        {
          "output_type": "display_data",
          "data": {
            "text/plain": [
              "<IPython.core.display.Markdown object>"
            ],
            "text/markdown": "Resposta:\n O próximo Google I/O será nos dias **14 e 15 de maio de 2024**.\n"
          },
          "metadata": {}
        }
      ]
    },
    {
      "cell_type": "code",
      "source": [
        "# Pergunta ao Gemini uma informação utilizando a busca do Google como contexto\n",
        "\n",
        "response = client.models.generate_content(\n",
        "    model=MODEL_ID,\n",
        "    contents='Quando é o próximo Google I/O?',\n",
        "    config={\"tools\": [{\"google_search\": {}}]}\n",
        ")\n",
        "\n",
        "# Exibe a resposta na tela\n",
        "display(Markdown(f\"Resposta:\\n {response.text}\"))"
      ],
      "metadata": {
        "id": "yXaZd7iZ4ftw",
        "colab": {
          "base_uri": "https://localhost:8080/",
          "height": 64
        },
        "outputId": "87843f3f-42cd-4b5c-9da0-7044ed4890f2"
      },
      "execution_count": null,
      "outputs": [
        {
          "output_type": "display_data",
          "data": {
            "text/plain": [
              "<IPython.core.display.Markdown object>"
            ],
            "text/markdown": "Resposta:\n O próximo Google I/O será nos dias 20 e 21 de maio de 2025. O evento será transmitido ao vivo de Mountain View e online. Você pode se registrar para receber atualizações importantes sobre o evento.\n"
          },
          "metadata": {}
        }
      ]
    },
    {
      "cell_type": "code",
      "source": [
        "# Exibe a busca\n",
        "print(f\"Busca realizada: {response.candidates[0].grounding_metadata.web_search_queries}\")\n",
        "# Exibe as URLs nas quais ele se baseou\n",
        "print(f\"Páginas utilizadas na resposta: {', '.join([site.web.title for site in response.candidates[0].grounding_metadata.grounding_chunks])}\")\n",
        "print()\n",
        "display(HTML(response.candidates[0].grounding_metadata.search_entry_point.rendered_content))"
      ],
      "metadata": {
        "id": "xHSNlTd84heJ",
        "colab": {
          "base_uri": "https://localhost:8080/",
          "height": 117
        },
        "outputId": "589af6be-b97c-46a1-c47d-4ff8b8fa112a"
      },
      "execution_count": null,
      "outputs": [
        {
          "output_type": "stream",
          "name": "stdout",
          "text": [
            "Busca realizada: ['Próximo evento Google I/O', 'data do próximo Google I/O']\n",
            "Páginas utilizadas na resposta: google.com, googleblog.com, blog.google, io.google\n",
            "\n"
          ]
        },
        {
          "output_type": "display_data",
          "data": {
            "text/plain": [
              "<IPython.core.display.HTML object>"
            ],
            "text/html": [
              "<style>\n",
              ".container {\n",
              "  align-items: center;\n",
              "  border-radius: 8px;\n",
              "  display: flex;\n",
              "  font-family: Google Sans, Roboto, sans-serif;\n",
              "  font-size: 14px;\n",
              "  line-height: 20px;\n",
              "  padding: 8px 12px;\n",
              "}\n",
              ".chip {\n",
              "  display: inline-block;\n",
              "  border: solid 1px;\n",
              "  border-radius: 16px;\n",
              "  min-width: 14px;\n",
              "  padding: 5px 16px;\n",
              "  text-align: center;\n",
              "  user-select: none;\n",
              "  margin: 0 8px;\n",
              "  -webkit-tap-highlight-color: transparent;\n",
              "}\n",
              ".carousel {\n",
              "  overflow: auto;\n",
              "  scrollbar-width: none;\n",
              "  white-space: nowrap;\n",
              "  margin-right: -12px;\n",
              "}\n",
              ".headline {\n",
              "  display: flex;\n",
              "  margin-right: 4px;\n",
              "}\n",
              ".gradient-container {\n",
              "  position: relative;\n",
              "}\n",
              ".gradient {\n",
              "  position: absolute;\n",
              "  transform: translate(3px, -9px);\n",
              "  height: 36px;\n",
              "  width: 9px;\n",
              "}\n",
              "@media (prefers-color-scheme: light) {\n",
              "  .container {\n",
              "    background-color: #fafafa;\n",
              "    box-shadow: 0 0 0 1px #0000000f;\n",
              "  }\n",
              "  .headline-label {\n",
              "    color: #1f1f1f;\n",
              "  }\n",
              "  .chip {\n",
              "    background-color: #ffffff;\n",
              "    border-color: #d2d2d2;\n",
              "    color: #5e5e5e;\n",
              "    text-decoration: none;\n",
              "  }\n",
              "  .chip:hover {\n",
              "    background-color: #f2f2f2;\n",
              "  }\n",
              "  .chip:focus {\n",
              "    background-color: #f2f2f2;\n",
              "  }\n",
              "  .chip:active {\n",
              "    background-color: #d8d8d8;\n",
              "    border-color: #b6b6b6;\n",
              "  }\n",
              "  .logo-dark {\n",
              "    display: none;\n",
              "  }\n",
              "  .gradient {\n",
              "    background: linear-gradient(90deg, #fafafa 15%, #fafafa00 100%);\n",
              "  }\n",
              "}\n",
              "@media (prefers-color-scheme: dark) {\n",
              "  .container {\n",
              "    background-color: #1f1f1f;\n",
              "    box-shadow: 0 0 0 1px #ffffff26;\n",
              "  }\n",
              "  .headline-label {\n",
              "    color: #fff;\n",
              "  }\n",
              "  .chip {\n",
              "    background-color: #2c2c2c;\n",
              "    border-color: #3c4043;\n",
              "    color: #fff;\n",
              "    text-decoration: none;\n",
              "  }\n",
              "  .chip:hover {\n",
              "    background-color: #353536;\n",
              "  }\n",
              "  .chip:focus {\n",
              "    background-color: #353536;\n",
              "  }\n",
              "  .chip:active {\n",
              "    background-color: #464849;\n",
              "    border-color: #53575b;\n",
              "  }\n",
              "  .logo-light {\n",
              "    display: none;\n",
              "  }\n",
              "  .gradient {\n",
              "    background: linear-gradient(90deg, #1f1f1f 15%, #1f1f1f00 100%);\n",
              "  }\n",
              "}\n",
              "</style>\n",
              "<div class=\"container\">\n",
              "  <div class=\"headline\">\n",
              "    <svg class=\"logo-light\" width=\"18\" height=\"18\" viewBox=\"9 9 35 35\" fill=\"none\" xmlns=\"http://www.w3.org/2000/svg\">\n",
              "      <path fill-rule=\"evenodd\" clip-rule=\"evenodd\" d=\"M42.8622 27.0064C42.8622 25.7839 42.7525 24.6084 42.5487 23.4799H26.3109V30.1568H35.5897C35.1821 32.3041 33.9596 34.1222 32.1258 35.3448V39.6864H37.7213C40.9814 36.677 42.8622 32.2571 42.8622 27.0064V27.0064Z\" fill=\"#4285F4\"/>\n",
              "      <path fill-rule=\"evenodd\" clip-rule=\"evenodd\" d=\"M26.3109 43.8555C30.9659 43.8555 34.8687 42.3195 37.7213 39.6863L32.1258 35.3447C30.5898 36.3792 28.6306 37.0061 26.3109 37.0061C21.8282 37.0061 18.0195 33.9811 16.6559 29.906H10.9194V34.3573C13.7563 39.9841 19.5712 43.8555 26.3109 43.8555V43.8555Z\" fill=\"#34A853\"/>\n",
              "      <path fill-rule=\"evenodd\" clip-rule=\"evenodd\" d=\"M16.6559 29.8904C16.3111 28.8559 16.1074 27.7588 16.1074 26.6146C16.1074 25.4704 16.3111 24.3733 16.6559 23.3388V18.8875H10.9194C9.74388 21.2072 9.06992 23.8247 9.06992 26.6146C9.06992 29.4045 9.74388 32.022 10.9194 34.3417L15.3864 30.8621L16.6559 29.8904V29.8904Z\" fill=\"#FBBC05\"/>\n",
              "      <path fill-rule=\"evenodd\" clip-rule=\"evenodd\" d=\"M26.3109 16.2386C28.85 16.2386 31.107 17.1164 32.9095 18.8091L37.8466 13.8719C34.853 11.082 30.9659 9.3736 26.3109 9.3736C19.5712 9.3736 13.7563 13.245 10.9194 18.8875L16.6559 23.3388C18.0195 19.2636 21.8282 16.2386 26.3109 16.2386V16.2386Z\" fill=\"#EA4335\"/>\n",
              "    </svg>\n",
              "    <svg class=\"logo-dark\" width=\"18\" height=\"18\" viewBox=\"0 0 48 48\" xmlns=\"http://www.w3.org/2000/svg\">\n",
              "      <circle cx=\"24\" cy=\"23\" fill=\"#FFF\" r=\"22\"/>\n",
              "      <path d=\"M33.76 34.26c2.75-2.56 4.49-6.37 4.49-11.26 0-.89-.08-1.84-.29-3H24.01v5.99h8.03c-.4 2.02-1.5 3.56-3.07 4.56v.75l3.91 2.97h.88z\" fill=\"#4285F4\"/>\n",
              "      <path d=\"M15.58 25.77A8.845 8.845 0 0 0 24 31.86c1.92 0 3.62-.46 4.97-1.31l4.79 3.71C31.14 36.7 27.65 38 24 38c-5.93 0-11.01-3.4-13.45-8.36l.17-1.01 4.06-2.85h.8z\" fill=\"#34A853\"/>\n",
              "      <path d=\"M15.59 20.21a8.864 8.864 0 0 0 0 5.58l-5.03 3.86c-.98-2-1.53-4.25-1.53-6.64 0-2.39.55-4.64 1.53-6.64l1-.22 3.81 2.98.22 1.08z\" fill=\"#FBBC05\"/>\n",
              "      <path d=\"M24 14.14c2.11 0 4.02.75 5.52 1.98l4.36-4.36C31.22 9.43 27.81 8 24 8c-5.93 0-11.01 3.4-13.45 8.36l5.03 3.85A8.86 8.86 0 0 1 24 14.14z\" fill=\"#EA4335\"/>\n",
              "    </svg>\n",
              "    <div class=\"gradient-container\"><div class=\"gradient\"></div></div>\n",
              "  </div>\n",
              "  <div class=\"carousel\">\n",
              "    <a class=\"chip\" href=\"https://vertexaisearch.cloud.google.com/grounding-api-redirect/AbF9wXE2WqTc159rrVBPngn4puqqfxeCDlK6FTJQ37XLjHT0xC8wNGuRXGzOUIjcnA8ACqpCdpHwlC6pea3Hl8PrpRsS6t5SnNEbmeV9vslJ0Z1CDrBXAT8GvgKJiUTm9iuqXuG6GqnZhyxmqPZB-X20iL-Mm2OmZnxJPQF8HEpiGNY5ZR2FNkTOdB63xZ-f-RKjBAwfOU53GP6BTcrcXyAkVJEJYw==\">Próximo evento Google I/O</a>\n",
              "    <a class=\"chip\" href=\"https://vertexaisearch.cloud.google.com/grounding-api-redirect/AbF9wXFDNe2t7u1koxqhgsinKMX8okXMCUkLswCrVGDVRD9rJWbPbKEveW1s7qj0Qbn3qkqOdwe1JQSO80KysW-62YTwB8ca0eANIBk1HDLwfAF0vgh4oqYwjanwsNwYKt0ZOMP7XNjBwIPD8LGNqvlfzdv-dniii7Fp8lOGe4VKAZghic8S-Zt4GdUZi8IOAbiBtNDR3I-zICGFte-ghs_byrm-UGc=\">data do próximo Google I/O</a>\n",
              "  </div>\n",
              "</div>\n"
            ]
          },
          "metadata": {}
        }
      ]
    },
    {
      "cell_type": "code",
      "source": [
        "# Instalar Framework ADK de agentes do Google ################################################\n",
        "!pip install -q google-adk"
      ],
      "metadata": {
        "id": "hvZ3UnPI4jhJ",
        "colab": {
          "base_uri": "https://localhost:8080/"
        },
        "outputId": "9fba392f-c5f3-48df-e182-66e07181b29b"
      },
      "execution_count": null,
      "outputs": [
        {
          "output_type": "stream",
          "name": "stdout",
          "text": [
            "\u001b[2K   \u001b[90m━━━━━━━━━━━━━━━━━━━━━━━━━━━━━━━━━━━━━━━━\u001b[0m \u001b[32m1.2/1.2 MB\u001b[0m \u001b[31m18.0 MB/s\u001b[0m eta \u001b[36m0:00:00\u001b[0m\n",
            "\u001b[2K   \u001b[90m━━━━━━━━━━━━━━━━━━━━━━━━━━━━━━━━━━━━━━━━\u001b[0m \u001b[32m232.1/232.1 kB\u001b[0m \u001b[31m14.0 MB/s\u001b[0m eta \u001b[36m0:00:00\u001b[0m\n",
            "\u001b[2K   \u001b[90m━━━━━━━━━━━━━━━━━━━━━━━━━━━━━━━━━━━━━━━━\u001b[0m \u001b[32m95.2/95.2 kB\u001b[0m \u001b[31m6.3 MB/s\u001b[0m eta \u001b[36m0:00:00\u001b[0m\n",
            "\u001b[2K   \u001b[90m━━━━━━━━━━━━━━━━━━━━━━━━━━━━━━━━━━━━━━━━\u001b[0m \u001b[32m217.1/217.1 kB\u001b[0m \u001b[31m13.1 MB/s\u001b[0m eta \u001b[36m0:00:00\u001b[0m\n",
            "\u001b[2K   \u001b[90m━━━━━━━━━━━━━━━━━━━━━━━━━━━━━━━━━━━━━━━━\u001b[0m \u001b[32m334.1/334.1 kB\u001b[0m \u001b[31m19.6 MB/s\u001b[0m eta \u001b[36m0:00:00\u001b[0m\n",
            "\u001b[2K   \u001b[90m━━━━━━━━━━━━━━━━━━━━━━━━━━━━━━━━━━━━━━━━\u001b[0m \u001b[32m125.1/125.1 kB\u001b[0m \u001b[31m8.7 MB/s\u001b[0m eta \u001b[36m0:00:00\u001b[0m\n",
            "\u001b[2K   \u001b[90m━━━━━━━━━━━━━━━━━━━━━━━━━━━━━━━━━━━━━━━━\u001b[0m \u001b[32m65.8/65.8 kB\u001b[0m \u001b[31m4.5 MB/s\u001b[0m eta \u001b[36m0:00:00\u001b[0m\n",
            "\u001b[2K   \u001b[90m━━━━━━━━━━━━━━━━━━━━━━━━━━━━━━━━━━━━━━━━\u001b[0m \u001b[32m119.0/119.0 kB\u001b[0m \u001b[31m8.4 MB/s\u001b[0m eta \u001b[36m0:00:00\u001b[0m\n",
            "\u001b[2K   \u001b[90m━━━━━━━━━━━━━━━━━━━━━━━━━━━━━━━━━━━━━━━━\u001b[0m \u001b[32m194.9/194.9 kB\u001b[0m \u001b[31m12.5 MB/s\u001b[0m eta \u001b[36m0:00:00\u001b[0m\n",
            "\u001b[2K   \u001b[90m━━━━━━━━━━━━━━━━━━━━━━━━━━━━━━━━━━━━━━━━\u001b[0m \u001b[32m62.5/62.5 kB\u001b[0m \u001b[31m4.1 MB/s\u001b[0m eta \u001b[36m0:00:00\u001b[0m\n",
            "\u001b[2K   \u001b[90m━━━━━━━━━━━━━━━━━━━━━━━━━━━━━━━━━━━━━━━━\u001b[0m \u001b[32m103.3/103.3 kB\u001b[0m \u001b[31m7.0 MB/s\u001b[0m eta \u001b[36m0:00:00\u001b[0m\n",
            "\u001b[2K   \u001b[90m━━━━━━━━━━━━━━━━━━━━━━━━━━━━━━━━━━━━━━━━\u001b[0m \u001b[32m44.4/44.4 kB\u001b[0m \u001b[31m2.8 MB/s\u001b[0m eta \u001b[36m0:00:00\u001b[0m\n",
            "\u001b[2K   \u001b[90m━━━━━━━━━━━━━━━━━━━━━━━━━━━━━━━━━━━━━━━━\u001b[0m \u001b[32m72.0/72.0 kB\u001b[0m \u001b[31m5.0 MB/s\u001b[0m eta \u001b[36m0:00:00\u001b[0m\n",
            "\u001b[?25h"
          ]
        }
      ]
    },
    {
      "cell_type": "code",
      "execution_count": null,
      "metadata": {
        "id": "aePV2bdfDeoW"
      },
      "outputs": [],
      "source": [
        "from google.adk.agents import Agent\n",
        "from google.adk.runners import Runner\n",
        "from google.adk.sessions import InMemorySessionService\n",
        "from google.adk.tools import google_search\n",
        "from google.genai import types  # Para criar conteúdos (Content e Part)\n",
        "from datetime import date\n",
        "import textwrap # Para formatar melhor a saída de texto\n",
        "from IPython.display import display, Markdown # Para exibir texto formatado no Colab\n",
        "import requests # Para fazer requisições HTTP\n",
        "import warnings\n",
        "\n",
        "warnings.filterwarnings(\"ignore\")"
      ]
    },
    {
      "cell_type": "code",
      "source": [
        "# Função auxiliar que envia uma mensagem para um agente via Runner e retorna a resposta final\n",
        "def call_agent(agent: Agent, message_text: str) -> str:\n",
        "    # Cria um serviço de sessão em memória\n",
        "    session_service = InMemorySessionService()\n",
        "    # Cria uma nova sessão (você pode personalizar os IDs conforme necessário)\n",
        "    session = session_service.create_session(app_name=agent.name, user_id=\"user1\", session_id=\"session1\")\n",
        "    # Cria um Runner para o agente\n",
        "    runner = Runner(agent=agent, app_name=agent.name, session_service=session_service)\n",
        "    # Cria o conteúdo da mensagem de entrada\n",
        "    content = types.Content(role=\"user\", parts=[types.Part(text=message_text)])\n",
        "\n",
        "    final_response = \"\"\n",
        "    # Itera assincronamente pelos eventos retornados durante a execução do agente\n",
        "    for event in runner.run(user_id=\"user1\", session_id=\"session1\", new_message=content):\n",
        "        if event.is_final_response():\n",
        "          for part in event.content.parts:\n",
        "            if part.text is not None:\n",
        "              final_response += part.text\n",
        "              final_response += \"\\n\"\n",
        "    return final_response"
      ],
      "metadata": {
        "id": "_xP4lWhsS5ko"
      },
      "execution_count": null,
      "outputs": []
    },
    {
      "cell_type": "code",
      "source": [
        "# Função auxiliar para exibir texto formatado em Markdown no Colab\n",
        "def to_markdown(text):\n",
        "  text = text.replace('•', '  *')\n",
        "  return Markdown(textwrap.indent(text, '> ', predicate=lambda _: True))"
      ],
      "metadata": {
        "id": "8dosiodaxfFR"
      },
      "execution_count": null,
      "outputs": []
    },
    {
      "cell_type": "code",
      "source": [
        "##########################################\n",
        "# --- Agente 1: Coletor de Necessidades --- #\n",
        "##########################################\n",
        "\n",
        "def agente_coletor(needs, budget):\n",
        "    coletor = Agent(\n",
        "        name=\"agente_coletor\",\n",
        "        model=\"gemini-2.0-flash\",\n",
        "        description=\"Agente que coleta informações sobre necessidades e orçamento do usuário.\",\n",
        "        tools=[],\n",
        "        instruction=\"\"\"\n",
        "            Você é um especialista em hardware de computadores. Sua tarefa é obter as necessidades detalhadas do usuário\n",
        "            (como uso para jogos, trabalho, edição de vídeo, etc.) e seu orçamento total disponível para montagem de um PC.\n",
        "            Baseado nessas informações, descreva os requisitos principais para as peças do computador (como CPU, GPU, RAM, etc.).\n",
        "        \"\"\"\n",
        "    )\n",
        "    entrada_do_agente_coletor = f\"Necessidades do usuário: {needs}\\nOrçamento: {budget}\"\n",
        "    requisitos = call_agent(coletor, entrada_do_agente_coletor)\n",
        "    return requisitos"
      ],
      "metadata": {
        "id": "o8bqIfi_DyH8"
      },
      "execution_count": null,
      "outputs": []
    },
    {
      "cell_type": "code",
      "source": [
        "###########################################\n",
        "# --- Agente 2: Pesquisador de Peças --- #\n",
        "###########################################\n",
        "\n",
        "def agente_pesquisador(requisitos):\n",
        "    pesquisador = Agent(\n",
        "        name=\"agente_pesquisador\",\n",
        "        model=\"gemini-2.0-flash\",\n",
        "        description=\"Agente que pesquisa componentes de hardware disponíveis no mercado.\",\n",
        "        tools=[google_search],\n",
        "        instruction=\"\"\"\n",
        "            Você é um pesquisador de hardware especializado em encontrar as melhores opções de peças de PC.\n",
        "            Use a ferramenta do Google (google_search) para buscar componentes que atendam aos requisitos fornecidos.\n",
        "            Identifique até 3 opções de cada peça necessária (CPU, GPU, RAM, etc.) dentro do orçamento estimado.\n",
        "            Retorne as informações detalhadas, incluindo preços, marcas e especificações.\n",
        "        \"\"\"\n",
        "    )\n",
        "    entrada_do_agente_pesquisador = f\"Requisitos: {requisitos}\"\n",
        "    componentes = call_agent(pesquisador, entrada_do_agente_pesquisador)\n",
        "    return componentes"
      ],
      "metadata": {
        "id": "y3VO1uo5_ghO"
      },
      "execution_count": null,
      "outputs": []
    },
    {
      "cell_type": "code",
      "source": [
        "#############################################\n",
        "# --- Agente 3: Planejador do Build --- #\n",
        "#############################################\n",
        "\n",
        "def agente_planejador(componentes):\n",
        "    planejador = Agent(\n",
        "        name=\"agente_planejador\",\n",
        "        model=\"gemini-2.0-flash\",\n",
        "        description=\"Agente que planeja o build completo com base nas peças pesquisadas.\",\n",
        "        tools=[],\n",
        "        instruction=\"\"\"\n",
        "            Você é um planejador de configuração de computadores. Com base nos componentes pesquisados, escolha\n",
        "            as combinações mais compatíveis e otimizadas para montar o PC.\n",
        "            Garanta que todas as peças sejam compatíveis (como CPU e placa-mãe) e estejam dentro do orçamento.\n",
        "            Retorne um plano detalhado do build, com as peças selecionadas e justificativas para cada escolha.\n",
        "        \"\"\"\n",
        "    )\n",
        "    entrada_do_agente_planejador = f\"Componentes pesquisados: {componentes}\"\n",
        "    build = call_agent(planejador, entrada_do_agente_planejador)\n",
        "    return build"
      ],
      "metadata": {
        "id": "uOqlg2TRLVh1"
      },
      "execution_count": null,
      "outputs": []
    },
    {
      "cell_type": "code",
      "source": [
        "##############################################\n",
        "# --- Agente 4: Validador Técnico --- #\n",
        "##############################################\n",
        "\n",
        "def agente_validador(build):\n",
        "    validador = Agent(\n",
        "        name=\"agente_validador\",\n",
        "        model=\"gemini-2.0-flash\",\n",
        "        description=\"Agente que valida a compatibilidade técnica do build completo.\",\n",
        "        tools=[],\n",
        "        instruction=\"\"\"\n",
        "            Você é um especialista técnico em hardware. Sua tarefa é revisar o build fornecido, verificando\n",
        "            a compatibilidade entre as peças (como socket da CPU e placa-mãe, potência da fonte, etc.).\n",
        "            Indique se o build está correto ou se precisa de ajustes. Caso precise de ajustes, sugira substituições adequadas.\n",
        "        \"\"\"\n",
        "    )\n",
        "    entrada_do_agente_validador = f\"Build fornecido: {build}\"\n",
        "    validacao = call_agent(validador, entrada_do_agente_validador)\n",
        "    return validacao"
      ],
      "metadata": {
        "id": "_aTb1SdkLeT6"
      },
      "execution_count": null,
      "outputs": []
    },
    {
      "cell_type": "code",
      "source": [
        "###############################################\n",
        "# --- Agente 5: Otimizador de Preços --- #\n",
        "###############################################\n",
        "\n",
        "def agente_otimizador(build_planejado):\n",
        "    otimizador = Agent(\n",
        "        name=\"agente_otimizador\",\n",
        "        model=\"gemini-2.0-flash\",\n",
        "        instruction=\"\"\"\n",
        "        Você é um assistente de compras que ajuda a encontrar os melhores preços para componentes de PCs.\n",
        "        Receba a lista de componentes validados e busque os menores preços em lojas confiáveis e brasileiras.\n",
        "        Retorne uma tabela com o preço, loja e link para cada componente, além do custo total em reais.\n",
        "        \"\"\",\n",
        "        description=\"Agente que otimiza os preços dos componentes.\",\n",
        "        tools=[google_search]\n",
        "    )\n",
        "    entrada_do_agente_otimizador = f\"Build planejado: {build_planejado}\"\n",
        "    precos = call_agent(otimizador, entrada_do_agente_otimizador)\n",
        "    return precos"
      ],
      "metadata": {
        "id": "AOMYghyXInhU"
      },
      "execution_count": null,
      "outputs": []
    },
    {
      "cell_type": "code",
      "source": [
        "###############################################\n",
        "# --- Agente 6: Simulador de Perfomance --- #\n",
        "###############################################\n",
        "\n",
        "def agente_simulador(build_planejado):\n",
        "    simulador = Agent(\n",
        "        name=\"agente_simulador\",\n",
        "        model=\"gemini-2.0-flash\",\n",
        "        instruction=\"\"\"\n",
        "        Você é um simulador de performance que avalia o desempenho de configurações de PCs.\n",
        "        Receba os componentes e simule o desempenho para cenários como jogos, edição de vídeo e multitarefa.\n",
        "        Retorne estimativas de FPS em jogos, tempos de renderização e eficiência multitarefa.\n",
        "        \"\"\",\n",
        "        description=\"Agente que simula o desempenho da configuração planejada.\",\n",
        "        tools=[]\n",
        "    )\n",
        "    entrada_do_agente_simulador = f\"Build planejado: {build_planejado}\"\n",
        "    desempenho = call_agent(simulador, entrada_do_agente_simulador)\n",
        "    return desempenho"
      ],
      "metadata": {
        "id": "dbGQf11-Inu7"
      },
      "execution_count": null,
      "outputs": []
    },
    {
      "cell_type": "code",
      "source": [
        "###############################################\n",
        "# --- Agente 7: Revisor e Sugestões Extras --- #\n",
        "###############################################\n",
        "\n",
        "def agente_revisor(build):\n",
        "    revisor = Agent(\n",
        "        name=\"agente_revisor\",\n",
        "        model=\"gemini-2.0-flash\",\n",
        "        description=\"Agente que revisa o build final e sugere melhorias adicionais.\",\n",
        "        tools=[],\n",
        "        instruction=\"\"\"\n",
        "            Você é um revisor especializado em configurações de PCs. Sua tarefa é avaliar o build final validado e sugerir\n",
        "            melhorias extras ou acessórios opcionais que possam otimizar o desempenho ou melhorar a experiência do usuário.\n",
        "            Exemplos incluem upgrades de armazenamento, sistemas de refrigeração melhores ou periféricos complementares.\n",
        "            Certifique-se de que as sugestões sejam úteis e viáveis dentro do orçamento fornecido.\n",
        "        \"\"\"\n",
        "    )\n",
        "    entrada_do_agente_revisor = f\"Build validado: {build}\"\n",
        "    sugestoes = call_agent(revisor, entrada_do_agente_revisor)\n",
        "    return sugestoes"
      ],
      "metadata": {
        "id": "7fEaybrQ-jLO"
      },
      "execution_count": null,
      "outputs": []
    },
    {
      "cell_type": "code",
      "source": [
        "data_de_hoje = date.today().strftime(\"%d/%m/%Y\")\n",
        "\n",
        "print(\"🚀 Iniciando o Sistema de Assistência para Montagem de PCs com Múltiplos Agentes 🚀\")\n",
        "\n",
        "# --- Obter Informações do Usuário ---\n",
        "needs = input(\"❓ Por favor, descreva suas necessidades (exemplo: jogos, edição de vídeo, trabalho, etc.): \")\n",
        "budget = input(\"💰 Qual é o seu orçamento disponível para o PC? (em reais): \")\n",
        "\n",
        "# Inserir lógica do sistema de agentes ################################################\n",
        "if not needs or not budget:\n",
        "    print(\"Você esqueceu de fornecer todas as informações necessárias!\")\n",
        "else:\n",
        "    print(f\"Maravilha! Vamos planejar a configuração ideal para suas necessidades dentro do orçamento de R$ {budget}.\")\n",
        "\n",
        "    requisitos = agente_coletor(needs, budget)\n",
        "    print(\"\\n--- 📝 Resultado do Agente 1 (Coletor de Necessidades) ---\\n\")\n",
        "    display(to_markdown(requisitos))\n",
        "    print(\"--------------------------------------------------------------\")\n",
        "\n",
        "    componentes_pesquisados = agente_pesquisador(requisitos)\n",
        "    print(\"\\n--- 📝 Resultado do Agente 2 (Pesquisador) ---\\n\")\n",
        "    display(to_markdown(componentes_pesquisados))\n",
        "    print(\"--------------------------------------------------------------\")\n",
        "\n",
        "    build_planejado = agente_planejador(componentes_pesquisados)\n",
        "    print(\"\\n--- 📝 Resultado do Agente 3 (Planejador) ---\\n\")\n",
        "    display(to_markdown(build_planejado))\n",
        "    print(\"--------------------------------------------------------------\")\n",
        "\n",
        "    validacao_final = agente_validador(build_planejado)\n",
        "    print(\"\\n--- 📝 Resultado do Agente 4 (Validador Técnico) ---\\n\")\n",
        "    display(to_markdown(validacao_final))\n",
        "    print(\"--------------------------------------------------------------\")\n",
        "\n",
        "    otimizacao_precos = agente_otimizador(validacao_final)\n",
        "    print(\"\\n--- 📝 Resultado do Agente 5 (Otimizador de Preços) ---\\n\")\n",
        "    display(to_markdown(otimizacao_precos))\n",
        "    print(\"--------------------------------------------------------------\")\n",
        "\n",
        "    desempenho_simulado = agente_simulador(validacao_final)\n",
        "    print(\"\\n--- 📝 Resultado do Agente 6 (Simulador de Performance) ---\\n\")\n",
        "    display(to_markdown(desempenho_simulado))\n",
        "    print(\"--------------------------------------------------------------\")\n",
        "\n",
        "    sugestoes_extras = agente_revisor(validacao_final)\n",
        "    print(\"\\n--- 📝 Resultado do Agente 7 (Revisor e Sugestões Extras) ---\\n\")\n",
        "    display(to_markdown(sugestoes_extras))\n",
        "    print(\"--------------------------------------------------------------\")\n"
      ],
      "metadata": {
        "id": "630ummxz4myx",
        "colab": {
          "base_uri": "https://localhost:8080/",
          "height": 1000
        },
        "outputId": "eeb50e5f-e8e1-433c-9076-e21113aad02d"
      },
      "execution_count": null,
      "outputs": [
        {
          "output_type": "stream",
          "name": "stdout",
          "text": [
            "🚀 Iniciando o Sistema de Assistência para Montagem de PCs com Múltiplos Agentes 🚀\n",
            "❓ Por favor, descreva suas necessidades (exemplo: jogos, edição de vídeo, trabalho, etc.): Jogos\n",
            "💰 Qual é o seu orçamento disponível para o PC? (em reais): 4.000\n",
            "Maravilha! Vamos planejar a configuração ideal para suas necessidades dentro do orçamento de R$ 4.000.\n",
            "\n",
            "--- 📝 Resultado do Agente 1 (Coletor de Necessidades) ---\n",
            "\n"
          ]
        },
        {
          "output_type": "display_data",
          "data": {
            "text/plain": [
              "<IPython.core.display.Markdown object>"
            ],
            "text/markdown": "> Ok, com um orçamento de R$ 4.000 para um PC gamer, vamos focar nos componentes mais importantes para ter um bom desempenho nos jogos. Aqui estão os requisitos principais que devemos considerar:\n> \n> *   **Processador (CPU):** Um bom ponto de partida seria um AMD Ryzen 5 5600 ou um Intel Core i5-12400F. Ambos oferecem um excelente desempenho em jogos e estão dentro de uma faixa de preço acessível.\n> \n> *   **Placa de Vídeo (GPU):** A placa de vídeo é o componente mais crucial para jogos. Com esse orçamento, podemos mirar em uma AMD Radeon RX 6600 ou uma NVIDIA GeForce RTX 3050. Se possível, tentar encontrar uma RX 6600 XT usada pode ser uma ótima opção para ter ainda mais desempenho.\n> \n> *   **Memória RAM:** 16GB de RAM DDR4 com uma velocidade de pelo menos 3200MHz é o ideal para jogos modernos.\n> \n> *   **Armazenamento:** Um SSD NVMe de 500GB ou 1TB é essencial para tempos de carregamento rápidos nos jogos e no sistema operacional. Se o orçamento permitir, adicionar um HD de 1TB para armazenar mais jogos e arquivos pode ser interessante.\n> \n> *   **Placa-mãe:** Uma placa-mãe que seja compatível com o processador escolhido e que tenha recursos suficientes para suas necessidades (slots de expansão, conexões, etc.).\n> \n> *   **Fonte de Alimentação:** Uma fonte de 550W ou 650W de boa qualidade com certificação 80+ Bronze deve ser suficiente para alimentar o sistema com folga.\n> \n> *   **Gabinete:** Escolha um gabinete que tenha boa ventilação para manter os componentes resfriados e que tenha espaço suficiente para todos os componentes.\n> \n> *   **Cooler:** Um air cooler é suficiente para resfriar o processador. Se possível, invista em um cooler um pouco melhor para garantir temperaturas mais baixas e menor ruído.\n> \n> Esses são os requisitos principais para montar um PC gamer com um orçamento de R$ 4.000. É importante pesquisar os preços e comparar diferentes marcas e modelos para encontrar as melhores ofertas e garantir que todos os componentes sejam compatíveis entre si.\n"
          },
          "metadata": {}
        },
        {
          "output_type": "stream",
          "name": "stdout",
          "text": [
            "--------------------------------------------------------------\n",
            "\n",
            "--- 📝 Resultado do Agente 2 (Pesquisador) ---\n",
            "\n"
          ]
        },
        {
          "output_type": "display_data",
          "data": {
            "text/plain": [
              "<IPython.core.display.Markdown object>"
            ],
            "text/markdown": "> Ok, entendi os requisitos para o PC gamer com orçamento de R$ 4.000. Vou pesquisar os componentes e apresentar algumas opções que se encaixam nas suas necessidades.\n> \n> \n> Com base na sua solicitação, aqui estão algumas opções de componentes para montar um PC gamer com um orçamento de R$ 4.000:\n> \n> **Processador (CPU):**\n> \n> *   **AMD Ryzen 5 5600:** Este processador oferece um excelente desempenho em jogos e possui um bom custo-benefício. O preço pode variar, mas geralmente está na faixa de R$ 800 a R$ 900.\n> *   **Intel Core i5-12400F:** Similar ao Ryzen 5 5600 em termos de desempenho, este processador Intel também é uma ótima opção. Você pode encontrá-lo por cerca de R$ 700 a R$ 800.\n> \n> **Placa de Vídeo (GPU):**\n> \n> *   **AMD Radeon RX 6600:** Esta placa de vídeo é uma excelente escolha para jogos em 1080p e oferece um bom desempenho por um preço acessível. O preço geralmente fica entre R$ 1.200 e R$ 1.500.\n> *   **NVIDIA GeForce RTX 3050:** Similar em desempenho à RX 6600, a RTX 3050 também é uma boa opção para jogos em 1080p. O preço pode variar entre R$ 1.300 e R$ 1.600.\n> *   **AMD Radeon RX 6600 XT (Usada):** Se você conseguir encontrar uma RX 6600 XT usada em bom estado, pode ser uma ótima opção para obter ainda mais desempenho dentro do seu orçamento. Os preços de modelos usados podem variar, mas procure por ofertas entre R$ 1.000 e R$ 1.300.\n> \n> **Memória RAM:**\n> \n> *   **16GB DDR4 3200MHz:** Essencial para jogos modernos, procure por kits de 16GB (2x8GB) com velocidade de 3200MHz. Algumas opções incluem Corsair Vengeance LPX, Kingston Fury Beast e Team Group T-Create. O preço deve ficar entre R$ 250 e R$ 350.\n> \n> **Armazenamento:**\n> \n> *   **SSD NVMe 500GB/1TB:** Um SSD NVMe é crucial para tempos de carregamento rápidos. Considere opções como Kingston NV3, Crucial P3 Plus ou Adata Legend 710.\n>     *   500GB: R$ 200 - R$ 300.\n>     *   1TB: R$ 300 - R$ 450.\n> *   **HD 1TB (Opcional):** Se o orçamento permitir, um HD de 1TB pode ser adicionado para armazenamento adicional de jogos e arquivos. Opções como Western Digital Blue ou Seagate Barracuda podem ser encontradas por cerca de R$ 200 a R$ 300.\n> \n> **Placa-Mãe:**\n> \n> *   **Para AMD Ryzen 5 5600:** Uma placa-mãe com chipset B450, B550 ou A520 é compatível.\n> *   **Para Intel Core i5-12400F:** Uma placa-mãe com chipset H610, B660 ou H670 é necessária.\n> *   O preço de uma placa-mãe deve variar entre R$ 400 e R$ 700, dependendo do chipset e recursos.\n> \n> **Fonte de Alimentação:**\n> \n> *   **550W/650W 80+ Bronze:** Uma fonte de alimentação de boa qualidade com certificação 80+ Bronze é essencial para garantir a estabilidade do sistema. Algumas opções incluem Corsair CV550, MSI MAG A650BN e Gamemax GP650. O preço deve variar entre R$ 250 e R$ 400.\n> \n> **Gabinete:**\n> \n> *   **Com bom fluxo de ar:** Escolha um gabinete com boa ventilação para manter os componentes resfriados. Opções como Corsair, Cooler Master e Redragon oferecem bons gabinetes com foco em fluxo de ar. O preço deve variar entre R$ 200 e R$ 400.\n> \n> **Cooler:**\n> \n> *   **Air Cooler:** Um air cooler é suficiente para resfriar o processador. Opções como Cooler Master Hyper 212 ou Noctua NH-U12S são boas escolhas. O preço deve variar entre R$ 150 e R$ 300.\n> \n> Lembre-se de pesquisar os preços em diferentes lojas e comparar as opções disponíveis para encontrar as melhores ofertas. Além disso, verifique a compatibilidade de todos os componentes antes de finalizar a compra.\n> \n"
          },
          "metadata": {}
        },
        {
          "output_type": "stream",
          "name": "stdout",
          "text": [
            "--------------------------------------------------------------\n",
            "\n",
            "--- 📝 Resultado do Agente 3 (Planejador) ---\n",
            "\n"
          ]
        },
        {
          "output_type": "display_data",
          "data": {
            "text/plain": [
              "<IPython.core.display.Markdown object>"
            ],
            "text/markdown": "> Ok, com base nos componentes que você pesquisou, aqui está um plano detalhado para montar um PC gamer otimizado dentro do orçamento de R$ 4.000:\n> \n> **Configuração Recomendada:**\n> \n> *   **Processador:** AMD Ryzen 5 5600 (R$ 850)\n>     *   *Justificativa:* Excelente desempenho em jogos e bom custo-benefício.\n> *   **Placa de Vídeo:** AMD Radeon RX 6600 (R$ 1.350)\n>     *   *Justificativa:* Ótimo desempenho em 1080p e bom preço.\n> *   **Placa-Mãe:** B450M (R$ 550)\n>     *   *Justificativa:* Compatível com o Ryzen 5 5600, oferece bom conjunto de recursos.\n> *   **Memória RAM:** 16GB DDR4 3200MHz (2x8GB) (R$ 300)\n>     *   *Justificativa:* Essencial para jogos modernos.\n> *   **Armazenamento:** SSD NVMe 500GB (R$ 250)\n>     *   *Justificativa:* Crucial para tempos de carregamento rápidos.\n> *   **Fonte de Alimentação:** 550W 80+ Bronze (R$ 300)\n>     *   *Justificativa:* Potência suficiente e certificação para garantir a estabilidade do sistema.\n> *   **Gabinete:** Com bom fluxo de ar (R$ 250)\n>     *   *Justificativa:* Essencial para manter os componentes resfriados.\n> *   **Cooler:** Air Cooler (R$ 200)\n>     *   *Justificativa:* Air cooler é o suficiente para resfriar o processador.\n> \n> **Total:** R$ 4.050\n> \n> **Justificativas Adicionais:**\n> \n> *   **CPU e GPU:** A combinação do Ryzen 5 5600 e da RX 6600 oferece um excelente equilíbrio entre desempenho e preço, ideal para jogos em 1080p.\n> *   **Placa-Mãe:** Uma placa-mãe B450M é compatível com o Ryzen 5 5600 e oferece um bom conjunto de recursos para a maioria dos jogadores.\n> *   **Armazenamento:** Priorizei um SSD NVMe de 500GB para garantir tempos de carregamento rápidos para o sistema operacional e jogos mais jogados. Se possível, considere adicionar um HD de 1TB no futuro para armazenamento adicional.\n> *   **Fonte de Alimentação:** Uma fonte de 550W com certificação 80+ Bronze é suficiente para alimentar o sistema com folga, garantindo a estabilidade e segurança dos componentes.\n> *   **Gabinete e Cooler:** Escolha um gabinete com bom fluxo de ar para manter os componentes resfriados e evitar o superaquecimento.\n> \n> **Observações:**\n> \n> *   **Preços:** Os preços podem variar dependendo da loja e da disponibilidade dos produtos. Recomendo pesquisar em diferentes lojas e comparar os preços antes de finalizar a compra.\n> *   **Compatibilidade:** Verifique a compatibilidade de todos os componentes antes de finalizar a compra.\n> *   **Montagem:** Se você não tiver experiência em montagem de computadores, considere contratar um profissional para montar o PC.\n> \n> Com essa configuração, você terá um PC gamer capaz de rodar a maioria dos jogos modernos em 1080p com configurações altas ou ultra.\n"
          },
          "metadata": {}
        },
        {
          "output_type": "stream",
          "name": "stdout",
          "text": [
            "--------------------------------------------------------------\n",
            "\n",
            "--- 📝 Resultado do Agente 4 (Validador Técnico) ---\n",
            "\n"
          ]
        },
        {
          "output_type": "display_data",
          "data": {
            "text/plain": [
              "<IPython.core.display.Markdown object>"
            ],
            "text/markdown": "> O build está quase perfeito, mas precisa de um pequeno ajuste na placa-mãe.\n> \n> **Problema:**\n> \n> *   **Placa-Mãe:** B450M (R$ 550) - Embora as placas-mãe B450M sejam geralmente compatíveis com o Ryzen 5 5600, **pode ser necessário atualizar o BIOS** para que a placa-mãe reconheça o processador. Isso pode ser um problema se você não tiver um processador mais antigo compatível para realizar a atualização.\n> \n> **Solução:**\n> \n> *   **Substituir por:** Placa-Mãe B550M (R$ 650 - R$ 750)\n>     *   *Justificativa:* As placas-mãe B550M são **nativamente compatíveis** com o Ryzen 5 5600, eliminando a necessidade de atualizar o BIOS. Além disso, oferecem suporte a PCIe Gen 4.0 para a placa de vídeo e SSD NVMe, proporcionando melhor desempenho e vida útil.\n> \n> **Build Ajustado:**\n> \n> *   **Processador:** AMD Ryzen 5 5600 (R$ 850)\n> *   **Placa de Vídeo:** AMD Radeon RX 6600 (R$ 1.350)\n> *   **Placa-Mãe:** B550M (R$ 700)\n> *   **Memória RAM:** 16GB DDR4 3200MHz (2x8GB) (R$ 300)\n> *   **Armazenamento:** SSD NVMe 500GB (R$ 250)\n> *   **Fonte de Alimentação:** 550W 80+ Bronze (R$ 300)\n> *   **Gabinete:** Com bom fluxo de ar (R$ 250)\n> *   **Cooler:** Air Cooler (R$ 200)\n> \n> **Total:** R$ 4.200\n> \n> **Observação:** O preço total aumentou um pouco devido à substituição da placa-mãe, mas a compatibilidade garantida e o desempenho aprimorado justificam o investimento extra.\n> \n> Com essa alteração, o build estará 100% compatível e pronto para rodar seus jogos!\n"
          },
          "metadata": {}
        },
        {
          "output_type": "stream",
          "name": "stdout",
          "text": [
            "--------------------------------------------------------------\n",
            "\n",
            "--- 📝 Resultado do Agente 5 (Otimizador de Preços) ---\n",
            "\n"
          ]
        },
        {
          "output_type": "display_data",
          "data": {
            "text/plain": [
              "<IPython.core.display.Markdown object>"
            ],
            "text/markdown": "> Ok, entendi. Você quer que eu encontre os melhores preços para os componentes do seu PC, com foco na placa-mãe B550M, e liste os preços, lojas e links em uma tabela, além do custo total em reais.\n> \n> \n> Com base nas minhas buscas, aqui está uma tabela com os melhores preços encontrados para os componentes do seu PC, em lojas brasileiras confiáveis:\n> \n>  | Componente                      | Preço (R$) | Loja           | Link                                                                                                                                                              |\n>  | :------------------------------ | :--------- | :------------- | :---------------------------------------------------------------------------------------------------------------------------------------------------------------- |\n>  | **Processador:** AMD Ryzen 5 5600     | 699,99     | KaBuM!         | [https://vertexaisearch.cloud.google.com/grounding-api-redirect/AbF9wXEh30Vdf\\_\\_jSn5UyTC0mJ25J0hXakHUW4ZdtppHe1UORGe6VWrdBjvjtxRR-Uc3QTHSimkaQwdj\\_kDbHFjQGDsYom-qyhBrTIXqHdur6eKXQxxCAXpXZvJU6b2E10Eeutlczc2SBADyRK3MI02yhoK7W5WGWrVVeSJyrWRFtkOcQSACSRpGagmTiB8-x38P58If1\\_6LHkrFpWQkFEyYPsYqIBEpk3wzvtn5vO7q27cXoalhtFATK2KOaSeYIBWA9DbP](https://vertexaisearch.cloud.google.com/grounding-api-redirect/AbF9wXEh30Vdf__jSn5UyTC0mJ25J0hXakHUW4ZdtppHe1UORGe6VWrdBjvjtxRR-Uc3QTHSimkaQwdj_kDbHFjQGDsYom-qyhBrTIXqHdur6eKXQxxCAXpXZvJU6b2E10Eeutlczc2SBADyRK3MI02yhoK7W5WGWrVVeSJyrWRFtkOcQSACSRpGagmTiB8-x38P58If1_6LHkrFpWQkFEyYPsYqIBEpk3wzvtn5vO7q27cXoalhtFATK2KOaSeYIBWA9DbP) |\n>  | **Placa de Vídeo:** AMD Radeon RX 6600  | 1.649,90   | KaBuM!         | [https://vertexaisearch.cloud.google.com/grounding-api-redirect/AbF9wXFHkzZq4LErktZGukBodM2xXjRUUeB-ZWvcqiBv7UcoLQEkDiDnRREF2GaE32wp5H9TByRU80voGZXGeP0YUl88sk\\_3I3cGi1LREnkmDZf94FZtlXSaXNplaiioA5-2fLnLDcUDOLdItqs](https://vertexaisearch.cloud.google.com/grounding-api-redirect/AbF9wXFHkzZq4LErktZGukBodM2xXjRUUeB-ZWvcqiBv7UcoLQEkDiDnRREF2GaE32wp5H9TByRU80voGZXGeP0YUl88sk_3I3cGi1LREnkmDZf94FZtlXSaXNplaiioA5-2fLnLDcUDOLdItqs=)  |\n>  | **Placa-Mãe:** B550M                      | 799,98     | Amazon         | [https://vertexaisearch.cloud.google.com/grounding-api-redirect/AbF9wXEQeWTSw9-xcy_hq7jHd9sq6ANaYGjqsyrgFWZkczT\\_ENjtLD6aAEn\\_DxFkrUqDaxO-EKLrmhqNgb4N9bQ9KCGcygI\\_LBzNBzhCq6XB7lToSXgawWli4Ws\\_AdLGWjSJ9AY=](https://vertexaisearch.cloud.google.com/grounding-api-redirect/AbF9wXEQeWTSw9-xcy_hq7jHd9sq6ANaYGjqsyrgFWZkczT_ENjtLD6aAEn_DxFkrUqDaxO-EKLrmhqNgb4N9bQ9KCGcygI_LBzNBzhCq6XB7lToSXgawWli4Ws_AdLGWjSJ9AY=)  |\n>  | **Memória RAM:** 16GB DDR4 3200MHz    | 360,00     | Amazon         | [https://vertexaisearch.cloud.google.com/grounding-api-redirect/AbF9wXFi\\_uEhUSM\\_YBFL2h-3c97dF5fGHZDFHSrRtUnfiBl33HDixlKP6ssW3vE5cH1M95S7cjraQ75CZ-JYouelwgzotaJUGNiTq\\_tI0aBgHdlBtgzS51ohCpTpKsRZ0KWn\\_WsEi2ThDLbRbCxK5bDv5oRZdDHLmoGXJPfvT1pltyFKmEnxeZgU](https://vertexaisearch.cloud.google.com/grounding-api-redirect/AbF9wXFi_uEhUSM_YBFL2h-3c97dF5fGHZDFHSrRtUnfiBl33HDixlKP6ssW3vE5cH1M95S7cjraQ75CZ-JYouelwgzotaJUGNiTq_tI0aBgHdlBtgzS51ohCpTpKsRZ0KWn_WsEi2ThDLbRbCxK5bDv5oRZdDHLmoGXJPfvT1pltyFKmEnxeZgU) |\n>  | **Armazenamento:** SSD NVMe 500GB       | 297,90     | TeraByteShop   | [https://vertexaisearch.cloud.google.com/grounding-api-redirect/AbF9wXGjzFhth9m1Ig6uDmEfnKgm8f9hiao6xwjRvXB4Nv6io3kVQolutLdclhvQfB9lt1y5xalxdqiR3UGGoxMv7tDOq8iK\\_wkgN1hXZcKzaGfGqYKlkhJ\\_bfYu974YxblPDpatgz7blf3cvUovyDeCBDbw](https://vertexaisearch.cloud.google.com/grounding-api-redirect/AbF9wXGjzFhth9m1Ig6uDmEfnKgm8f9hiao6xwjRvXB4Nv6io3kVQolutLdclhvQfB9lt1y5xalxdqiR3UGGoxMv7tDOq8iK_wkgN1hXZcKzaGfGqYKlkhJ_bfYu974YxblPDpatgz7blf3cvUovyDeCBDbw)  |\n>  | **Fonte de Alimentação:** 550W 80+ Bronze  | 229,00     | Primetek        | [https://vertexaisearch.cloud.google.com/grounding-api-redirect/AbF9wXH56ByZ5J62VMpkRVc2H1GqYitXfGo4QgnRH-Dxv9b\\_c2wo5H8VwIWNiWBaYnuPV1FGNfx9xPN3z21bkZPoVogwJCKM-SeVRkD1zynj\\_5xJmCBG\\_SQay-Lo1JuFtGApgiFAB39fDsV-UPLLr74h](https://vertexaisearch.cloud.google.com/grounding-api-redirect/AbF9wXH56ByZ5J62VMpkRVc2H1GqYitXfGo4QgnRH-Dxv9b_c2wo5H8VwIWNiWBaYnuPV1FGNfx9xPN3z21bkZPoVogwJCKM-SeVRkD1zynj_5xJmCBG_SQay-Lo1JuFtGApgiFAB39fDsV-UPLLr74h)  |\n>  | **Gabinete:** Com bom fluxo de ar     | 318,17    | KaBuM!        | [https://vertexaisearch.cloud.google.com/grounding-api-redirect/AbF9wXECTkJtgkfSMoqM8uoR75TrUYZUZspKplkI\\_BsEXbtWK8khapuHuFzZdU3kJ\\_ukTlr-UV-OVaxrMSrKi9iYAPcF4C4-\\_\\_i3\\_tqj1ya3Sv6XPyLKHWkgGHGkYvRNIZOmS0eUNl2RZZxV-w==](https://vertexaisearch.cloud.google.com/grounding-api-redirect/AbF9wXECTkJtgkfSMoqM8uoR75TrUYZUZspKplkI_BsEXbtWK8khapuHuFzZdU3kJ_ukTlr-UV-OVaxrMSrKi9iYAPcF4C4-__i3_tqj1ya3Sv6XPyLKHWkgGHGkYvRNIZOmS0eUNl2RZZxV-w==)  |\n>  | **Cooler:** Air Cooler                  | 170,58     | KaBuM!         | [https://vertexaisearch.cloud.google.com/grounding-api-redirect/AbF9wXHBVPCt5\\_PcNqKQ5laCzzixTeRZRFA1wVRmHnnhYEMHer8\\_yVKjtCar-LJAylr1MGqH6UGGi7jv6JUz6H8IiR2nsfRfHEiuZxvU8PLoT4ZGjPkbdpLq20\\_Bm-Qp1TLK5yeM04gRPdEeVvBN8HB6Nw==](https://vertexaisearch.cloud.google.com/grounding-api-redirect/AbF9wXHBVPCt5_PcNqKQ5laCzzixTeRZRFA1wVRmHnnhYEMHer8_yVKjtCar-LJAylr1MGqH6UGGi7jv6JUz6H8IiR2nsfRfHEiuZxvU8PLoT4ZGjPkbdpLq20_Bm-Qp1TLK5yeM04gRPdEeVvBN8HB6Nw==) |\n>  | **Total:**                           | **4.425,61** |                |                                                                                                                                                 |\n> \n>  **Observações:**\n> \n>  *  Os preços podem variar dependendo das promoções e disponibilidade das lojas.\n>  *  Recomendo verificar a compatibilidade de todos os componentes antes de finalizar a compra.\n>  *  O gabinete selecionado (T-Dagger Cube Black) possui bom fluxo de ar e um preço acessível.\n>  *  A fonte de alimentação (Gamer Primetek Fp-550 ATX) tem boa eficiência e também um preço acessível.\n>  *  O Air Cooler (Rise Mode Winter Black) tem um bom custo-benefício.\n> \n>  Espero que esta tabela te ajude a encontrar os melhores preços para o seu novo PC!\n> \n"
          },
          "metadata": {}
        },
        {
          "output_type": "stream",
          "name": "stdout",
          "text": [
            "--------------------------------------------------------------\n",
            "\n",
            "--- 📝 Resultado do Agente 6 (Simulador de Performance) ---\n",
            "\n"
          ]
        },
        {
          "output_type": "display_data",
          "data": {
            "text/plain": [
              "<IPython.core.display.Markdown object>"
            ],
            "text/markdown": "> Ok, build ajustado e compatível! Vamos simular o desempenho dessa máquina para te dar uma ideia do que esperar:\n> \n> **Desempenho Estimado:**\n> \n> *   **Jogos (1080p - configurações altas/ultra):**\n>     *   **Títulos AAA (Cyberpunk 2077, Red Dead Redemption 2):** 55-70 FPS (com ajustes nas configurações, pode chegar a 60 FPS estáveis)\n>     *   **Jogos Competitivos (CS:GO, Valorant, Rainbow Six Siege):** 200+ FPS\n>     *   **Jogos Mais Leves (Fortnite, Overwatch 2):** 140+ FPS\n> *   **Edição de Vídeo (1080p/4K):**\n>     *   **Renderização de Vídeos Curtos (até 10 minutos):** Rápida e eficiente, com tempos de renderização razoáveis.\n>     *   **Renderização de Vídeos Longos (20+ minutos):**  Tempo de renderização dependerá da complexidade do projeto, mas será significativamente mais rápido do que em builds mais básicos.\n> *   **Multitarefa:**\n>     *   **Navegação na Web, Edição de Documentos, Streaming de Música:** Desempenho excelente e sem gargalos.\n>     *   **Jogos + Streaming:**  Capaz de realizar streaming em 1080p com boa qualidade, mas pode haver uma pequena queda no FPS dependendo do jogo.\n>     *   **Edição de Vídeo + Outras Tarefas:** O Ryzen 5 5600 conseguirá lidar bem com multitarefas exigentes, mas o tempo de renderização pode ser um pouco afetado.\n> \n> **Considerações:**\n> \n> *   **RX 6600:** Uma excelente placa para 1080p, mas pode exigir alguns ajustes nas configurações para rodar jogos mais pesados em resoluções mais altas (1440p).\n> *   **16GB RAM:** Suficiente para a maioria dos jogos e tarefas, mas para edição de vídeo mais pesada, considerar 32GB RAM no futuro pode ser interessante.\n> *   **SSD NVMe:** Essencial para tempos de carregamento rápidos e responsividade do sistema.\n> *   **Air Cooler:** Um bom air cooler é importante para manter as temperaturas sob controle, especialmente durante sessões de jogos prolongadas ou renderização de vídeo.\n> *   **B550M:** A escolha da B550M foi crucial para garantir a compatibilidade e aproveitar os benefícios do PCIe 4.0.\n> \n> **Em resumo:**  Este build oferece um ótimo equilíbrio entre preço e desempenho, ideal para jogos em 1080p, edição de vídeo e multitarefa. A troca da placa-mãe foi uma excelente decisão para garantir a compatibilidade e evitar dores de cabeça com atualizações de BIOS.\n> \n"
          },
          "metadata": {}
        },
        {
          "output_type": "stream",
          "name": "stdout",
          "text": [
            "--------------------------------------------------------------\n",
            "\n",
            "--- 📝 Resultado do Agente 7 (Revisor e Sugestões Extras) ---\n",
            "\n"
          ]
        },
        {
          "output_type": "display_data",
          "data": {
            "text/plain": [
              "<IPython.core.display.Markdown object>"
            ],
            "text/markdown": "> O build está excelente! A troca da placa-mãe B450M pela B550M foi uma escolha inteligente para garantir a compatibilidade e aproveitar os recursos mais recentes.\n> \n> **Sugestões de Melhorias Adicionais e Acessórios Opcionais:**\n> \n> 1.  **Armazenamento:**\n>     *   **Adicionar um HD de 1TB** (R$ 200 - R$ 300): Embora o SSD NVMe de 500GB seja ótimo para o sistema operacional e jogos mais usados, um HD adicional oferece espaço para armazenar uma biblioteca maior de jogos, vídeos, fotos e outros arquivos grandes. Isso evita a necessidade de desinstalar jogos para liberar espaço no SSD.\n>     *   **Upgrade do SSD para 1TB** (R$ 400 - R$ 500): Se o orçamento permitir, aumentar a capacidade do SSD NVMe para 1TB é uma excelente opção. Isso proporciona mais espaço para instalar jogos e aplicativos, resultando em tempos de carregamento mais rápidos e uma experiência geral mais fluida.\n> \n> 2.  **Refrigeração:**\n>     *   **Upgrade do Air Cooler para um modelo mais robusto** (R$ 300 - R$ 400): Se você planeja fazer overclock no processador ou mora em um local quente, investir em um air cooler de alta performance pode ajudar a manter as temperaturas sob controle e garantir um desempenho mais estável a longo prazo. Marcas como Noctua, be quiet! e Cooler Master oferecem excelentes opções.\n> \n> 3.  **Periféricos:**\n>     *   **Teclado Mecânico** (R$ 200 - R$ 500): Um teclado mecânico oferece uma experiência de digitação mais precisa e responsiva, o que pode ser especialmente útil em jogos. Há uma grande variedade de opções disponíveis, com diferentes tipos de switches e recursos.\n>     *   **Mouse Gamer** (R$ 100 - R$ 300): Um mouse gamer com DPI ajustável e botões programáveis pode melhorar significativamente sua jogabilidade. Procure por um modelo que se encaixe bem na sua mão e ofereça os recursos que você precisa.\n>     *   **Headset Gamer** (R$ 200 - R$ 400): Um headset gamer de qualidade oferece áudio imersivo e comunicação clara com outros jogadores. Modelos com som surround virtual podem te dar uma vantagem competitiva em jogos.\n> \n> 4.  **Estabilizador/Filtro de Linha:**\n>     *   **Estabilizador/Filtro de Linha** (R$ 100 - R$ 200): Para proteger o seu investimento contra picos de tensão e ruídos na rede elétrica, um estabilizador ou filtro de linha é altamente recomendado.\n> \n> **Observações:**\n> \n> *   As sugestões acima são opcionais e dependem do seu orçamento e necessidades.\n> *   Priorize as melhorias que trarão o maior impacto na sua experiência de uso.\n> *   Pesquise e compare preços antes de fazer qualquer compra.\n> \n> Com essas adições, seu PC gamer ficará ainda mais completo e preparado para te proporcionar horas de diversão!\n> \n"
          },
          "metadata": {}
        },
        {
          "output_type": "stream",
          "name": "stdout",
          "text": [
            "--------------------------------------------------------------\n"
          ]
        }
      ]
    },
    {
      "cell_type": "code",
      "source": [],
      "metadata": {
        "id": "CnaJLmahAYeI"
      },
      "execution_count": null,
      "outputs": []
    }
  ]
}